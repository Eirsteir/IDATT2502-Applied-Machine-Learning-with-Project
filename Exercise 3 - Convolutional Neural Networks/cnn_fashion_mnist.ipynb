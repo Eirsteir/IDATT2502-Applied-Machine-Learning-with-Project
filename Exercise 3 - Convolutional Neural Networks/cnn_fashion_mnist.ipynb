{
 "cells": [
  {
   "cell_type": "code",
   "execution_count": 1,
   "source": [
    "import torch\r\n",
    "import torch.nn as nn\r\n",
    "import torchvision\r\n",
    "\r\n",
    "# Load observations from the mnist dataset. The observations are divided into a training set and a test set\r\n",
    "mnist_train = torchvision.datasets.FashionMNIST('./data/fashion', train=True, download=True)\r\n",
    "x_train = mnist_train.data.reshape(-1, 1, 28, 28).float()  # torch.functional.nn.conv2d argument must include channels (1)\r\n",
    "y_train = torch.zeros((mnist_train.targets.shape[0], 10))  # Create output tensor\r\n",
    "y_train[torch.arange(mnist_train.targets.shape[0]), mnist_train.targets] = 1  # Populate output\r\n",
    "\r\n",
    "mnist_test = torchvision.datasets.FashionMNIST('./data/fashion', train=False, download=True)\r\n",
    "x_test = mnist_test.data.reshape(-1, 1, 28, 28).float()  # torch.functional.nn.conv2d argument must include channels (1)\r\n",
    "y_test = torch.zeros((mnist_test.targets.shape[0], 10))  # Create output tensor\r\n",
    "y_test[torch.arange(mnist_test.targets.shape[0]), mnist_test.targets] = 1  # Populate output\r\n",
    "\r\n",
    "# Normalization of inputs\r\n",
    "mean = x_train.mean()\r\n",
    "std = x_train.std()\r\n",
    "x_train = (x_train - mean) / std\r\n",
    "x_test = (x_test - mean) / std\r\n",
    "\r\n",
    "# Divide training data into batches to speed up optimization\r\n",
    "batches = 600\r\n",
    "x_train_batches = torch.split(x_train, batches)\r\n",
    "y_train_batches = torch.split(y_train, batches)"
   ],
   "outputs": [
    {
     "output_type": "stream",
     "name": "stderr",
     "text": [
      "C:\\Users\\Eirik\\AppData\\Local\\Programs\\Python\\Python38\\lib\\site-packages\\torchvision\\datasets\\mnist.py:498: UserWarning: The given NumPy array is not writeable, and PyTorch does not support non-writeable tensors. This means you can write to the underlying (supposedly non-writeable) NumPy array using the tensor. You may want to copy the array to protect its data or make it writeable before converting it to a tensor. This type of warning will be suppressed for the rest of this program. (Triggered internally at  ..\\torch\\csrc\\utils\\tensor_numpy.cpp:180.)\n",
      "  return torch.from_numpy(parsed.astype(m[2], copy=False)).view(*s)\n"
     ]
    }
   ],
   "metadata": {}
  },
  {
   "cell_type": "code",
   "execution_count": 2,
   "source": [
    "\r\n",
    "class ConvolutionalNeuralNetworkModel(nn.Module):\r\n",
    "    def __init__(self):\r\n",
    "        super().__init__()\r\n",
    "\r\n",
    "        # Model layers (includes initialized model variables):\r\n",
    "        self.logits = nn.Sequential(\r\n",
    "\t\t\t\t\tnn.Conv2d(1, 32, kernel_size=5, padding=2), # 32@28x28\r\n",
    "\t\t\t\t\tnn.MaxPool2d(kernel_size=2), # 32@14x14\r\n",
    "\t\t\t\t\tnn.Conv2d(32, 64, kernel_size=5, padding=2), # 32@14x14\r\n",
    "\t\t\t\t\tnn.MaxPool2d(kernel_size=2), # 64@7x7 \r\n",
    "\t\t\t\t\tnn.Flatten(), \r\n",
    "\t\t\t\t\tnn.ReLU(),\r\n",
    "\t\t\t\t\tnn.Linear(64 * 7 * 7, 1024), # Dense, 64@7x7\r\n",
    "\t\t\t\t\tnn.Flatten(),\r\n",
    "\t\t\t\t\tnn.ReLU(),\r\n",
    "\t\t\t\t\tnn.Linear(1 * 1024, 10)) # Dense, 1x1024\r\n",
    "\r\n",
    "    # Predictor\r\n",
    "    def f(self, x):\r\n",
    "        return torch.softmax(self.logits(x), dim=1)\r\n",
    "\r\n",
    "    # Cross Entropy loss\r\n",
    "    def loss(self, x, y):\r\n",
    "        return nn.functional.cross_entropy(self.logits(x), y.argmax(1))\r\n",
    "\r\n",
    "    # Accuracy\r\n",
    "    def accuracy(self, x, y):\r\n",
    "        return torch.mean(torch.eq(self.f(x).argmax(1), y.argmax(1)).float())"
   ],
   "outputs": [],
   "metadata": {}
  },
  {
   "cell_type": "code",
   "execution_count": 3,
   "source": [
    "model = ConvolutionalNeuralNetworkModel()\r\n",
    "\r\n",
    "# Optimize: adjust W and b to minimize loss using stochastic gradient descent\r\n",
    "optimizer = torch.optim.Adam(model.parameters(), lr=1e-3)\r\n",
    "for epoch in range(20):\r\n",
    "\tfor batch in range(len(x_train_batches)):\r\n",
    "\t\t\tloss = model.loss(x_train_batches[batch], y_train_batches[batch])  # Compute loss gradients\r\n",
    "\t\t\tloss.backward()  # Compute loss gradients\r\n",
    "\t\t\toptimizer.step()  # Perform optimization by adjusting W and b,\r\n",
    "\t\t\toptimizer.zero_grad()  # Clear gradients for next step\r\n",
    "\r\n",
    "\tprint(\"accuracy = %s\" % model.accuracy(x_test, y_test))\r\n",
    "\r\n",
    "# With added convolution and max-pool layers, lr=1e-03, epochs=20: "
   ],
   "outputs": [
    {
     "output_type": "stream",
     "name": "stderr",
     "text": [
      "C:\\Users\\Eirik\\AppData\\Local\\Programs\\Python\\Python38\\lib\\site-packages\\torch\\nn\\functional.py:718: UserWarning: Named tensors and all their associated APIs are an experimental feature and subject to change. Please do not use them for anything important until they are released as stable. (Triggered internally at  ..\\c10/core/TensorImpl.h:1156.)\n",
      "  return torch.max_pool2d(input, kernel_size, stride, padding, dilation, ceil_mode)\n"
     ]
    },
    {
     "output_type": "stream",
     "name": "stdout",
     "text": [
      "accuracy = tensor(0.8655)\n",
      "accuracy = tensor(0.8859)\n",
      "accuracy = tensor(0.8961)\n",
      "accuracy = tensor(0.9000)\n",
      "accuracy = tensor(0.8999)\n",
      "accuracy = tensor(0.9041)\n",
      "accuracy = tensor(0.9030)\n",
      "accuracy = tensor(0.9090)\n",
      "accuracy = tensor(0.9128)\n",
      "accuracy = tensor(0.9146)\n",
      "accuracy = tensor(0.9089)\n",
      "accuracy = tensor(0.9043)\n",
      "accuracy = tensor(0.9056)\n",
      "accuracy = tensor(0.9087)\n",
      "accuracy = tensor(0.9143)\n"
     ]
    }
   ],
   "metadata": {}
  }
 ],
 "metadata": {
  "orig_nbformat": 4,
  "language_info": {
   "name": "python",
   "version": "3.8.0",
   "mimetype": "text/x-python",
   "codemirror_mode": {
    "name": "ipython",
    "version": 3
   },
   "pygments_lexer": "ipython3",
   "nbconvert_exporter": "python",
   "file_extension": ".py"
  },
  "kernelspec": {
   "name": "python3",
   "display_name": "Python 3.8.0 64-bit"
  },
  "interpreter": {
   "hash": "333cb7f826909b79f15829ef8d8ab2af0ed34c798525b4e8d05cabfee37b71f4"
  }
 },
 "nbformat": 4,
 "nbformat_minor": 2
}
{
 "cells": [
  {
   "cell_type": "markdown",
   "source": [
    "# Exercise 6"
   ],
   "metadata": {}
  },
  {
   "cell_type": "code",
   "execution_count": 31,
   "source": [
    "import pandas as pd\r\n",
    "import numpy as np\r\n",
    "import matplotlib.pyplot as plt\r\n",
    "\r\n",
    "from mpl_toolkits.mplot3d import Axes3D\r\n",
    "from sklearn.decomposition import PCA\r\n",
    "from sklearn import preprocessing\r\n",
    "from sklearn.feature_selection import SelectKBest\r\n",
    "from sklearn.feature_selection import chi2"
   ],
   "outputs": [],
   "metadata": {}
  },
  {
   "cell_type": "markdown",
   "source": [
    "### Using the UCI mushroom dataset from the last exercise, perform a feature selection using a classifier evaluator. Which features are most discriminitave?"
   ],
   "metadata": {}
  },
  {
   "cell_type": "code",
   "execution_count": 8,
   "source": [
    "data = pd.read_csv('data/agaricus-lepiota.data')\r\n",
    "\r\n",
    "# Convert it to a pandas DataFrame\r\n",
    "df = pd.DataFrame(data, columns=data.columns)\r\n",
    "dummies = pd.get_dummies(data)\r\n",
    "X, y = pd.get_dummies(data), pd.get_dummies(data['edibility'])\r\n",
    "\r\n",
    "print(\"X shape:\", X.shape)\r\n",
    "print(\"y shape:\", y.shape)"
   ],
   "outputs": [
    {
     "output_type": "stream",
     "name": "stdout",
     "text": [
      "X shape: (8124, 119)\n",
      "y shape: (8124, 2)\n"
     ]
    }
   ],
   "metadata": {}
  },
  {
   "cell_type": "code",
   "execution_count": 42,
   "source": [
    "skb = SelectKBest(chi2, k=5)\r\n",
    "skb.fit(X, y)\r\n",
    "X_new = skb.transform(X)\r\n",
    "\r\n",
    "print(\"New X shape: \", X_new.shape)\r\n",
    "\r\n",
    "selected_features = np.array(dummies.columns)[skb.get_support(indices=True)]\r\n",
    "print(\"Selected features:\", selected_features)"
   ],
   "outputs": [
    {
     "output_type": "stream",
     "name": "stdout",
     "text": [
      "New X shape:  (8124, 5)\n",
      "Selected features: ['edibility_e' 'edibility_p' 'odor_f' 'odor_n'\n",
      " 'stalk-surface-above-ring_k']\n"
     ]
    }
   ],
   "metadata": {}
  },
  {
   "cell_type": "markdown",
   "source": [
    "### Use principal components analysis to construct a reduced space. Which combination of features explain the most variance in the dataset?\r\n"
   ],
   "metadata": {}
  },
  {
   "cell_type": "code",
   "execution_count": 49,
   "source": [
    "# PCA\r\n",
    "pca = PCA(n_components=5)\r\n",
    "X_pca = pca.fit_transform(X)\r\n",
    "\r\n",
    "print(\"Original shape: \", X.shape)\r\n",
    "print(\"PCA shape: \", X_pca.shape)\r\n",
    "\r\n",
    "obtain_feature = lambda i: pca.components_[i].argmax()\r\n",
    "features = [X.columns[obtain_feature(i)] for i in range(X_pca.shape[1])]\r\n",
    "\r\n",
    "print(\"The combination of features which gives the most variance: \", features)"
   ],
   "outputs": [
    {
     "output_type": "stream",
     "name": "stdout",
     "text": [
      "Original shape:  (8124, 119)\n",
      "PCA shape:  (8124, 5)\n",
      "The combination of features which gives the most variance:  ['edibility_p', 'stalk-root_b', 'habitat_g', 'stalk-shape_t', 'odor_n']\n"
     ]
    }
   ],
   "metadata": {}
  },
  {
   "cell_type": "markdown",
   "source": [
    "### Do you see any overlap between the PCA features and those obtained from feature selection?"
   ],
   "metadata": {}
  },
  {
   "cell_type": "code",
   "execution_count": 50,
   "source": [
    "set(features).intersection(selected_features)"
   ],
   "outputs": [
    {
     "output_type": "execute_result",
     "data": {
      "text/plain": [
       "{'edibility_p', 'odor_n'}"
      ]
     },
     "metadata": {},
     "execution_count": 50
    }
   ],
   "metadata": {}
  }
 ],
 "metadata": {
  "orig_nbformat": 4,
  "language_info": {
   "name": "python",
   "version": "3.8.0",
   "mimetype": "text/x-python",
   "codemirror_mode": {
    "name": "ipython",
    "version": 3
   },
   "pygments_lexer": "ipython3",
   "nbconvert_exporter": "python",
   "file_extension": ".py"
  },
  "kernelspec": {
   "name": "python3",
   "display_name": "Python 3.8.0 64-bit"
  },
  "interpreter": {
   "hash": "333cb7f826909b79f15829ef8d8ab2af0ed34c798525b4e8d05cabfee37b71f4"
  }
 },
 "nbformat": 4,
 "nbformat_minor": 2
}
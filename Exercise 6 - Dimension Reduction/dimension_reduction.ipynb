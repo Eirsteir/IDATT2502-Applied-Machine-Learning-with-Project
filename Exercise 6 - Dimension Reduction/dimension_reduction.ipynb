{
 "cells": [
  {
   "cell_type": "markdown",
   "metadata": {},
   "source": [
    "# Exercise 6"
   ]
  },
  {
   "cell_type": "code",
   "execution_count": 31,
   "metadata": {},
   "outputs": [],
   "source": [
    "import pandas as pd\n",
    "import numpy as np\n",
    "\n",
    "from sklearn.decomposition import PCA\n",
    "from sklearn.feature_selection import SelectKBest\n",
    "from sklearn.feature_selection import chi2"
   ]
  },
  {
   "cell_type": "markdown",
   "metadata": {},
   "source": [
    "### Using the UCI mushroom dataset from the last exercise, perform a feature selection using a classifier evaluator. Which features are most discriminitave?"
   ]
  },
  {
   "cell_type": "code",
   "execution_count": 8,
   "metadata": {},
   "outputs": [
    {
     "name": "stdout",
     "output_type": "stream",
     "text": [
      "X shape: (8124, 119)\n",
      "y shape: (8124, 2)\n"
     ]
    }
   ],
   "source": [
    "data = pd.read_csv('data/agaricus-lepiota.data')\n",
    "\n",
    "# Convert it to a pandas DataFrame\n",
    "df = pd.DataFrame(data, columns=data.columns)\n",
    "dummies = pd.get_dummies(data)\n",
    "X, y = pd.get_dummies(data), pd.get_dummies(data['edibility'])\n",
    "\n",
    "print(\"X shape:\", X.shape)\n",
    "print(\"y shape:\", y.shape)"
   ]
  },
  {
   "cell_type": "code",
   "execution_count": 42,
   "metadata": {},
   "outputs": [
    {
     "name": "stdout",
     "output_type": "stream",
     "text": [
      "New X shape:  (8124, 5)\n",
      "Selected features: ['edibility_e' 'edibility_p' 'odor_f' 'odor_n'\n",
      " 'stalk-surface-above-ring_k']\n"
     ]
    }
   ],
   "source": [
    "skb = SelectKBest(chi2, k=5)\n",
    "skb.fit(X, y)\n",
    "X_new = skb.transform(X)\n",
    "\n",
    "print(\"New X shape: \", X_new.shape)\n",
    "\n",
    "selected_features = np.array(dummies.columns)[skb.get_support(indices=True)]\n",
    "print(\"Selected features:\", selected_features)"
   ]
  },
  {
   "cell_type": "markdown",
   "metadata": {},
   "source": [
    "### Use principal components analysis to construct a reduced space. Which combination of features explain the most variance in the dataset?\n"
   ]
  },
  {
   "cell_type": "code",
   "execution_count": 49,
   "metadata": {},
   "outputs": [
    {
     "name": "stdout",
     "output_type": "stream",
     "text": [
      "Original shape:  (8124, 119)\n",
      "PCA shape:  (8124, 5)\n",
      "The combination of features which gives the most variance:  ['edibility_p', 'stalk-root_b', 'habitat_g', 'stalk-shape_t', 'odor_n']\n"
     ]
    }
   ],
   "source": [
    "# PCA\n",
    "pca = PCA(n_components=5)\n",
    "X_pca = pca.fit_transform(X)\n",
    "\n",
    "print(\"Original shape: \", X.shape)\n",
    "print(\"PCA shape: \", X_pca.shape)\n",
    "\n",
    "obtain_feature = lambda i: pca.components_[i].argmax()\n",
    "features = [X.columns[obtain_feature(i)] for i in range(X_pca.shape[1])]\n",
    "\n",
    "print(\"The combination of features which gives the most variance: \", features)"
   ]
  },
  {
   "cell_type": "markdown",
   "metadata": {},
   "source": [
    "### Do you see any overlap between the PCA features and those obtained from feature selection?"
   ]
  },
  {
   "cell_type": "code",
   "execution_count": 50,
   "metadata": {},
   "outputs": [
    {
     "data": {
      "text/plain": [
       "{'edibility_p', 'odor_n'}"
      ]
     },
     "execution_count": 50,
     "metadata": {},
     "output_type": "execute_result"
    }
   ],
   "source": [
    "set(features).intersection(selected_features)"
   ]
  }
 ],
 "metadata": {
  "interpreter": {
   "hash": "333cb7f826909b79f15829ef8d8ab2af0ed34c798525b4e8d05cabfee37b71f4"
  },
  "kernelspec": {
   "display_name": "Python 3.8.0 64-bit",
   "name": "python3"
  },
  "language_info": {
   "codemirror_mode": {
    "name": "ipython",
    "version": 3
   },
   "file_extension": ".py",
   "mimetype": "text/x-python",
   "name": "python",
   "nbconvert_exporter": "python",
   "pygments_lexer": "ipython3",
   "version": "3.8.0"
  },
  "orig_nbformat": 4
 },
 "nbformat": 4,
 "nbformat_minor": 2
}

{
  "nbformat": 4,
  "nbformat_minor": 0,
  "metadata": {
    "colab": {
      "name": "LTSM_emojis.ipynb",
      "provenance": [],
      "collapsed_sections": []
    },
    "kernelspec": {
      "name": "python3",
      "display_name": "Python 3"
    },
    "language_info": {
      "name": "python"
    },
    "accelerator": "GPU"
  },
  "cells": [
    {
      "cell_type": "code",
      "metadata": {
        "colab": {
          "base_uri": "https://localhost:8080/"
        },
        "id": "2QiunL9nUdUZ",
        "outputId": "ca43ae55-69b5-409e-dbaf-a1fc50c08630"
      },
      "source": [
        "import torch\n",
        "import torch.nn as nn\n",
        "import numpy as np\n",
        "\n",
        "dev = torch.device(\"cuda\") if torch.cuda.is_available() else torch.device(\"cpu\")\n",
        "print(dev)\n"
      ],
      "execution_count": 8,
      "outputs": [
        {
          "output_type": "stream",
          "name": "stdout",
          "text": [
            "cuda\n"
          ]
        }
      ]
    },
    {
      "cell_type": "code",
      "metadata": {
        "colab": {
          "base_uri": "https://localhost:8080/"
        },
        "id": "toZPm28_UzbD",
        "outputId": "0a587969-27dd-4332-b831-cb552b35116c"
      },
      "source": [
        "emojis = {\n",
        "    'hat': '\\U0001F3A9',\n",
        "    'rat': '\\U0001F400',\n",
        "    'cat': '\\U0001F408',\n",
        "    'flat': '\\U0001F3E2',\n",
        "    'matt': '\\U0001F468',\n",
        "    'cap': '\\U0001F9E2',\n",
        "    'son': '\\U0001F466'\n",
        "}\n",
        "\n",
        "index_to_emoji = [value for _, value in emojis.items()]\n",
        "emojies = np.eye(len(emojis))\n",
        "emoji_encoding_size = len(emojies)\n",
        "\n",
        "index_to_char = [' ', 's', 'a', 'r', 'm', 'p', 'c', 't', 'f', 'h', 'l', 'n', 'o']\n",
        "char_encodings = np.eye(len(index_to_char))\n",
        "encoding_size = len(char_encodings)\n",
        "\n",
        "letters ={}\n",
        "\n",
        "for i, letter in enumerate(index_to_char):\n",
        "        letters[letter] = char_encodings[i]\n",
        "\n",
        "# Generate list of index to char\n",
        "# words = (\"hat \", \"rat \", \"cat \", \"flat \", \"matt \", \"cap \", \"son \")\n",
        "# letters = list(map(lambda w: list(w), words))\n",
        "# import functools\n",
        "# print(set(functools.reduce(lambda a, b: a + b, words)))\n",
        "\n",
        "x_train = torch.tensor([\n",
        "        [[letters['h']], [letters['a']], [letters['t']], [letters[' ']]],\n",
        "        [[letters['r']], [letters['a']], [letters['t']], [letters[' ']]],\n",
        "        [[letters['c']], [letters['a']], [letters['t']], [letters[' ']]],\n",
        "        [[letters['f']], [letters['l']], [letters['a']], [letters['t']]],\n",
        "        [[letters['m']], [letters['a']], [letters['t']], [letters['t']]],\n",
        "        [[letters['c']], [letters['a']], [letters['p']], [letters[' ']]],\n",
        "        [[letters['s']], [letters['o']], [letters['n']], [letters[' ']]],\n",
        "        ], \n",
        "        dtype=torch.float)\n",
        "\n",
        "y_train = torch.tensor([\n",
        "        [emojies[0], emojies[0], emojies[0], emojies[0]] ,\n",
        "        [emojies[1], emojies[1], emojies[1], emojies[1]],\n",
        "        [emojies[2], emojies[2], emojies[2], emojies[2]],\n",
        "        [emojies[3], emojies[3], emojies[3], emojies[3]],\n",
        "        [emojies[4], emojies[4], emojies[4], emojies[4]],\n",
        "        [emojies[5], emojies[5], emojies[5], emojies[5]],\n",
        "        [emojies[6], emojies[6], emojies[6], emojies[6]]], \n",
        "        dtype=torch.float)"
      ],
      "execution_count": 31,
      "outputs": [
        {
          "output_type": "stream",
          "name": "stdout",
          "text": [
            "torch.Size([7, 4, 1, 13])\n",
            "torch.Size([7, 4, 7])\n"
          ]
        }
      ]
    },
    {
      "cell_type": "code",
      "metadata": {
        "id": "azS0gTjRUv46"
      },
      "source": [
        "class LongShortTermMemoryModel(nn.Module):\n",
        "    def __init__(self, encoding_size, emoji_encoding_size):\n",
        "        super(LongShortTermMemoryModel, self).__init__()\n",
        "        self.lstm = nn.LSTM(encoding_size, 128)  # 128 is the state size\n",
        "        self.dense = nn.Linear(128, emoji_encoding_size)  # 128 is the state size\n",
        "\n",
        "    def reset(self):  # Reset states prior to new input sequence\n",
        "        zero_state = torch.zeros(1, 1, 128).to(dev)  # Shape: (number of layers, batch size, state size)\n",
        "        self.hidden_state = zero_state\n",
        "        self.cell_state = zero_state\n",
        "\n",
        "    def logits(self, x):  # x shape: (sequence length, batch size, encoding size)\n",
        "        out, (self.hidden_state, self.cell_state) = self.lstm(x, (self.hidden_state, self.cell_state))\n",
        "        return self.dense(out.reshape(-1, 128))\n",
        "\n",
        "    def f(self, x):  # x shape: (sequence length, batch size, encoding size)\n",
        "        return torch.softmax(self.logits(x), dim=1)\n",
        "\n",
        "    def loss(self, x, y):  # x shape: (sequence length, batch size, encoding size), y shape: (sequence length, encoding size)\n",
        "        return nn.functional.cross_entropy(self.logits(x), y.argmax(1))"
      ],
      "execution_count": 36,
      "outputs": []
    },
    {
      "cell_type": "code",
      "metadata": {
        "id": "AtnUm3b4U9qj"
      },
      "source": [
        "model = LongShortTermMemoryModel(encoding_size, emoji_encoding_size).to(dev)\n",
        "\n",
        "optimizer = torch.optim.RMSprop(model.parameters(), lr=0.001)\n",
        "for epoch in range(500):\n",
        "    for i in range(x_train.size()[0]):\n",
        "        model.reset()\n",
        "        model.loss(x_train[i].to(dev), y_train[i].to(dev)).backward()\n",
        "        optimizer.step()\n",
        "        optimizer.zero_grad()"
      ],
      "execution_count": 38,
      "outputs": []
    },
    {
      "cell_type": "code",
      "metadata": {
        "colab": {
          "base_uri": "https://localhost:8080/"
        },
        "id": "rW_4AidJZBUZ",
        "outputId": "6220a483-018d-4359-bb97-c65e18cfaff5"
      },
      "source": [
        "def generate_emoji(string):\n",
        "    y = -1\n",
        "    model.reset()\n",
        "    for i in range(len(string)):\n",
        "        char_index = index_to_char.index(string[i])\n",
        "        y = model.f(torch.tensor([[char_encodings[char_index]]], dtype=torch.float).to(dev))\n",
        "    print(index_to_emoji[y.argmax(1)])\n",
        "\n",
        "generate_emoji('rt')\n",
        "generate_emoji('rats')\n",
        "generate_emoji(\"s\")"
      ],
      "execution_count": 42,
      "outputs": [
        {
          "output_type": "stream",
          "name": "stdout",
          "text": [
            "🐀\n",
            "🐀\n",
            "👦\n"
          ]
        }
      ]
    }
  ]
}